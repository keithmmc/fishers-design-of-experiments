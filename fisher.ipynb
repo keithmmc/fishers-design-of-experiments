{
 "cells": [
  {
   "cell_type": "markdown",
   "metadata": {},
   "source": [
    "# Section 1: Introduction to Experimental Design\n",
    "1.1: Define Experimental Design and Its Key Elements\n",
    "Definition of Experimental Design:\n",
    "\n",
    "Experimental design refers to the structured approach to conducting experiments to ensure that they can effectively answer the research questions. The primary goal is to isolate the effect of one or more treatments on the subjects under study. Key components of experimental design include treatment, control, replication, and randomization.\n",
    "\n",
    "Key Elements:\n",
    "\n",
    "Treatment: The conditions or interventions applied to the experimental units (e.g., subjects or samples) to study their effects.\n",
    "Control: The baseline group in an experiment that doesn't receive the treatment. It helps in comparing the treatment's effects.\n",
    "Replication: The repetition of the experiment or treatments on multiple subjects to ensure the results are reliable and minimize variability.\n",
    "Randomization: The random assignment of subjects to different treatment groups to ensure that the groups are similar and reduce bias."
   ]
  },
  {
   "cell_type": "markdown",
   "metadata": {},
   "source": [
    "To demonstrate the experimental design, we'll randomly assign subjects to two groups: \"Treatment\" and \"Control.\"\n",
    "\n",
    "\n"
   ]
  },
  {
   "cell_type": "code",
   "execution_count": 1,
   "metadata": {},
   "outputs": [],
   "source": [
    "import numpy as np \n",
    "import pandas as pd "
   ]
  },
  {
   "cell_type": "code",
   "execution_count": 2,
   "metadata": {},
   "outputs": [],
   "source": [
    "n_subjects = 100"
   ]
  },
  {
   "cell_type": "code",
   "execution_count": 3,
   "metadata": {},
   "outputs": [],
   "source": [
    "np.random.seed(42)\n",
    "groups = np.random.choice(['Treatment', 'Control'], size=n_subjects)"
   ]
  },
  {
   "cell_type": "code",
   "execution_count": 4,
   "metadata": {},
   "outputs": [],
   "source": [
    "# Create a DataFrame to simulate this experiment\n",
    "subjects = pd.DataFrame({\n",
    "    'Subject_ID': range(1, n_subjects + 1),\n",
    "    'Group': groups\n",
    "})"
   ]
  },
  {
   "cell_type": "code",
   "execution_count": 5,
   "metadata": {},
   "outputs": [
    {
     "data": {
      "text/html": [
       "<div>\n",
       "<style scoped>\n",
       "    .dataframe tbody tr th:only-of-type {\n",
       "        vertical-align: middle;\n",
       "    }\n",
       "\n",
       "    .dataframe tbody tr th {\n",
       "        vertical-align: top;\n",
       "    }\n",
       "\n",
       "    .dataframe thead th {\n",
       "        text-align: right;\n",
       "    }\n",
       "</style>\n",
       "<table border=\"1\" class=\"dataframe\">\n",
       "  <thead>\n",
       "    <tr style=\"text-align: right;\">\n",
       "      <th></th>\n",
       "      <th>Subject_ID</th>\n",
       "      <th>Group</th>\n",
       "    </tr>\n",
       "  </thead>\n",
       "  <tbody>\n",
       "    <tr>\n",
       "      <th>0</th>\n",
       "      <td>1</td>\n",
       "      <td>Treatment</td>\n",
       "    </tr>\n",
       "    <tr>\n",
       "      <th>1</th>\n",
       "      <td>2</td>\n",
       "      <td>Control</td>\n",
       "    </tr>\n",
       "    <tr>\n",
       "      <th>2</th>\n",
       "      <td>3</td>\n",
       "      <td>Treatment</td>\n",
       "    </tr>\n",
       "    <tr>\n",
       "      <th>3</th>\n",
       "      <td>4</td>\n",
       "      <td>Treatment</td>\n",
       "    </tr>\n",
       "    <tr>\n",
       "      <th>4</th>\n",
       "      <td>5</td>\n",
       "      <td>Treatment</td>\n",
       "    </tr>\n",
       "  </tbody>\n",
       "</table>\n",
       "</div>"
      ],
      "text/plain": [
       "   Subject_ID      Group\n",
       "0           1  Treatment\n",
       "1           2    Control\n",
       "2           3  Treatment\n",
       "3           4  Treatment\n",
       "4           5  Treatment"
      ]
     },
     "execution_count": 5,
     "metadata": {},
     "output_type": "execute_result"
    }
   ],
   "source": [
    "subjects.head()"
   ]
  },
  {
   "cell_type": "markdown",
   "metadata": {},
   "source": [
    "This code assigns 100 subjects randomly to two groups: \"Treatment\" and \"Control.\" The DataFrame created contains columns for Subject_ID and Group, showing the random assignment."
   ]
  },
  {
   "cell_type": "markdown",
   "metadata": {},
   "source": [
    "# 1.2: Why Randomization is Crucial in Experimental Design\n",
    "Why Randomization is Crucial:\n",
    "\n",
    "Randomization plays a vital role in minimizing bias and ensuring the experiment's validity. It:\n",
    "\n",
    "Eliminates Bias: Random assignment prevents systematic differences between groups that could result from human error or preexisting conditions.\n",
    "Improves Validity: Randomization ensures that the results are not influenced by external or uncontrolled factors, providing more reliable conclusions.\n",
    "Ensures Generalizability: Randomly selected subjects represent the broader population, making the results applicable beyond the sample."
   ]
  },
  {
   "cell_type": "code",
   "execution_count": 6,
   "metadata": {},
   "outputs": [
    {
     "data": {
      "image/png": "[encoded data removed]",
      "text/plain": [
       "<Figure size 600x400 with 1 Axes>"
      ]
     },
     "metadata": {},
     "output_type": "display_data"
    }
   ],
   "source": [
    "import matplotlib.pyplot as plt\n",
    "\n",
    "# Plot the distribution of subjects between 'Treatment' and 'Control'\n",
    "group_counts = subjects['Group'].value_counts()\n",
    "\n",
    "# Create the bar plot\n",
    "plt.figure(figsize=(6, 4))\n",
    "group_counts.plot(kind='bar', color=['skyblue', 'salmon'])\n",
    "plt.title('Randomization of Subjects into Treatment and Control Groups')\n",
    "plt.xlabel('Group')\n",
    "plt.ylabel('Number of Subjects')\n",
    "plt.xticks(rotation=0)\n",
    "plt.show()\n"
   ]
  },
  {
   "cell_type": "markdown",
   "metadata": {},
   "source": [
    "This plot will show the number of subjects assigned to each group, illustrating how randomization divides the subjects between the treatment and control groups"
   ]
  },
  {
   "cell_type": "markdown",
   "metadata": {},
   "source": [
    "# Different Types of Experimental Designs\n",
    "Types of Experimental Designs:\n",
    "\n",
    "Completely Randomized Design (CRD):\n",
    "\n",
    "In this design, all subjects are randomly assigned to treatment and control groups with no blocking or additional structure. Let's simulate this by randomly assigning subjects to \"Young\" and \"Old\" age groups, and then randomly assigning treatment within the whole group.\n"
   ]
  },
  {
   "cell_type": "code",
   "execution_count": 7,
   "metadata": {},
   "outputs": [
    {
     "data": {
      "text/html": [
       "<div>\n",
       "<style scoped>\n",
       "    .dataframe tbody tr th:only-of-type {\n",
       "        vertical-align: middle;\n",
       "    }\n",
       "\n",
       "    .dataframe tbody tr th {\n",
       "        vertical-align: top;\n",
       "    }\n",
       "\n",
       "    .dataframe thead th {\n",
       "        text-align: right;\n",
       "    }\n",
       "</style>\n",
       "<table border=\"1\" class=\"dataframe\">\n",
       "  <thead>\n",
       "    <tr style=\"text-align: right;\">\n",
       "      <th></th>\n",
       "      <th>Subject_ID</th>\n",
       "      <th>Age_Group</th>\n",
       "      <th>Group</th>\n",
       "    </tr>\n",
       "  </thead>\n",
       "  <tbody>\n",
       "    <tr>\n",
       "      <th>0</th>\n",
       "      <td>1</td>\n",
       "      <td>Young</td>\n",
       "      <td>Treatment</td>\n",
       "    </tr>\n",
       "    <tr>\n",
       "      <th>1</th>\n",
       "      <td>2</td>\n",
       "      <td>Old</td>\n",
       "      <td>Control</td>\n",
       "    </tr>\n",
       "    <tr>\n",
       "      <th>2</th>\n",
       "      <td>3</td>\n",
       "      <td>Old</td>\n",
       "      <td>Treatment</td>\n",
       "    </tr>\n",
       "    <tr>\n",
       "      <th>3</th>\n",
       "      <td>4</td>\n",
       "      <td>Old</td>\n",
       "      <td>Treatment</td>\n",
       "    </tr>\n",
       "    <tr>\n",
       "      <th>4</th>\n",
       "      <td>5</td>\n",
       "      <td>Old</td>\n",
       "      <td>Control</td>\n",
       "    </tr>\n",
       "  </tbody>\n",
       "</table>\n",
       "</div>"
      ],
      "text/plain": [
       "   Subject_ID Age_Group      Group\n",
       "0           1     Young  Treatment\n",
       "1           2       Old    Control\n",
       "2           3       Old  Treatment\n",
       "3           4       Old  Treatment\n",
       "4           5       Old    Control"
      ]
     },
     "execution_count": 7,
     "metadata": {},
     "output_type": "execute_result"
    }
   ],
   "source": [
    "# Randomly assign age group to subjects (e.g., 'Young' and 'Old')\n",
    "age_groups = np.random.choice(['Young', 'Old'], size=n_subjects)\n",
    "\n",
    "# Randomly assign treatment (CRD)\n",
    "treatment_crd = np.random.choice(['Treatment', 'Control'], size=n_subjects)\n",
    "\n",
    "# DataFrame with CRD setup\n",
    "crd_data = pd.DataFrame({\n",
    "    'Subject_ID': range(1, n_subjects + 1),\n",
    "    'Age_Group': age_groups,\n",
    "    'Group': treatment_crd\n",
    "})\n",
    "\n",
    "# Display first few rows\n",
    "crd_data.head()\n"
   ]
  },
  {
   "cell_type": "markdown",
   "metadata": {},
   "source": [
    "Randomized Block Design (RBD):\n",
    "\n",
    "In RBD, subjects are first grouped (blocked) based on a characteristic (e.g., age, gender) that could influence the outcome. Then, treatments are randomly assigned within each block to account for variability in the blocking factor.  we first group the subjects based on Age Group, and then within each block, randomly assign the treatment. This ensures that age-related variability is controlled."
   ]
  },
  {
   "cell_type": "code",
   "execution_count": 8,
   "metadata": {},
   "outputs": [
    {
     "data": {
      "text/html": [
       "<div>\n",
       "<style scoped>\n",
       "    .dataframe tbody tr th:only-of-type {\n",
       "        vertical-align: middle;\n",
       "    }\n",
       "\n",
       "    .dataframe tbody tr th {\n",
       "        vertical-align: top;\n",
       "    }\n",
       "\n",
       "    .dataframe thead th {\n",
       "        text-align: right;\n",
       "    }\n",
       "</style>\n",
       "<table border=\"1\" class=\"dataframe\">\n",
       "  <thead>\n",
       "    <tr style=\"text-align: right;\">\n",
       "      <th></th>\n",
       "      <th>Age_Group</th>\n",
       "      <th>Group</th>\n",
       "    </tr>\n",
       "  </thead>\n",
       "  <tbody>\n",
       "    <tr>\n",
       "      <th>0</th>\n",
       "      <td>Young</td>\n",
       "      <td>Treatment</td>\n",
       "    </tr>\n",
       "    <tr>\n",
       "      <th>1</th>\n",
       "      <td>Young</td>\n",
       "      <td>Treatment</td>\n",
       "    </tr>\n",
       "    <tr>\n",
       "      <th>2</th>\n",
       "      <td>Young</td>\n",
       "      <td>Treatment</td>\n",
       "    </tr>\n",
       "    <tr>\n",
       "      <th>3</th>\n",
       "      <td>Young</td>\n",
       "      <td>Control</td>\n",
       "    </tr>\n",
       "    <tr>\n",
       "      <th>4</th>\n",
       "      <td>Young</td>\n",
       "      <td>Control</td>\n",
       "    </tr>\n",
       "  </tbody>\n",
       "</table>\n",
       "</div>"
      ],
      "text/plain": [
       "  Age_Group      Group\n",
       "0     Young  Treatment\n",
       "1     Young  Treatment\n",
       "2     Young  Treatment\n",
       "3     Young    Control\n",
       "4     Young    Control"
      ]
     },
     "execution_count": 8,
     "metadata": {},
     "output_type": "execute_result"
    }
   ],
   "source": [
    "# Block subjects into 'Young' and 'Old', and then randomize treatment within blocks\n",
    "rbd_data = []\n",
    "\n",
    "# Create blocks and assign treatment within each block\n",
    "for age_group in ['Young', 'Old']:\n",
    "    block = np.random.choice(['Treatment', 'Control'], size=n_subjects // 2)\n",
    "    rbd_data.extend(zip([age_group] * (n_subjects // 2), block))\n",
    "\n",
    "# Create DataFrame for RBD\n",
    "rbd_df = pd.DataFrame(rbd_data, columns=['Age_Group', 'Group'])\n",
    "\n",
    "# Display the first few rows\n",
    "rbd_df.head()\n"
   ]
  },
  {
   "cell_type": "markdown",
   "metadata": {},
   "source": [
    "Latin Square Design is an experimental design used to control two sources of variation without needing a large number of treatment combinations. It ensures that each treatment appears exactly once in each row and column of a square matrix, making it ideal for situations where you want to minimize the effects of two factors at the same time.\n",
    "\n",
    "Explanation of Latin Square Design:\n",
    "Factors: Two sources of variation (e.g., time and location) are controlled.\n",
    "Treatment Replication: Each treatment appears once in each row and column.\n",
    "Ideal for Smaller Experiments: When the number of treatments is equal to the number of rows and columns, Latin Square Design works efficiently."
   ]
  },
  {
   "cell_type": "code",
   "execution_count": 9,
   "metadata": {},
   "outputs": [
    {
     "data": {
      "text/html": [
       "<div>\n",
       "<style scoped>\n",
       "    .dataframe tbody tr th:only-of-type {\n",
       "        vertical-align: middle;\n",
       "    }\n",
       "\n",
       "    .dataframe tbody tr th {\n",
       "        vertical-align: top;\n",
       "    }\n",
       "\n",
       "    .dataframe thead th {\n",
       "        text-align: right;\n",
       "    }\n",
       "</style>\n",
       "<table border=\"1\" class=\"dataframe\">\n",
       "  <thead>\n",
       "    <tr style=\"text-align: right;\">\n",
       "      <th></th>\n",
       "      <th>Column_1</th>\n",
       "      <th>Column_2</th>\n",
       "      <th>Column_3</th>\n",
       "      <th>Column_4</th>\n",
       "    </tr>\n",
       "  </thead>\n",
       "  <tbody>\n",
       "    <tr>\n",
       "      <th>Row_1</th>\n",
       "      <td>T1</td>\n",
       "      <td>T2</td>\n",
       "      <td>T3</td>\n",
       "      <td>T4</td>\n",
       "    </tr>\n",
       "    <tr>\n",
       "      <th>Row_2</th>\n",
       "      <td>T4</td>\n",
       "      <td>T1</td>\n",
       "      <td>T2</td>\n",
       "      <td>T3</td>\n",
       "    </tr>\n",
       "    <tr>\n",
       "      <th>Row_3</th>\n",
       "      <td>T3</td>\n",
       "      <td>T4</td>\n",
       "      <td>T1</td>\n",
       "      <td>T2</td>\n",
       "    </tr>\n",
       "    <tr>\n",
       "      <th>Row_4</th>\n",
       "      <td>T2</td>\n",
       "      <td>T3</td>\n",
       "      <td>T4</td>\n",
       "      <td>T1</td>\n",
       "    </tr>\n",
       "  </tbody>\n",
       "</table>\n",
       "</div>"
      ],
      "text/plain": [
       "      Column_1 Column_2 Column_3 Column_4\n",
       "Row_1       T1       T2       T3       T4\n",
       "Row_2       T4       T1       T2       T3\n",
       "Row_3       T3       T4       T1       T2\n",
       "Row_4       T2       T3       T4       T1"
      ]
     },
     "execution_count": 9,
     "metadata": {},
     "output_type": "execute_result"
    }
   ],
   "source": [
    "\n",
    "\n",
    "# Define treatments\n",
    "treatments = ['T1', 'T2', 'T3', 'T4']\n",
    "\n",
    "# Create the Latin Square Matrix (4x4)\n",
    "latin_square = np.array([np.roll(treatments, i) for i in range(len(treatments))])\n",
    "\n",
    "# Convert to DataFrame for readability\n",
    "latin_square_df = pd.DataFrame(latin_square, columns=[f'Column_{i+1}' for i in range(len(treatments))])\n",
    "latin_square_df.index = [f'Row_{i+1}' for i in range(len(treatments))]\n",
    "\n",
    "# Display the Latin Square design\n",
    "latin_square_df\n"
   ]
  },
  {
   "cell_type": "markdown",
   "metadata": {},
   "source": [
    "Factorial Design is a powerful experimental design used when studying multiple factors simultaneously. It allows researchers to examine both the individual effects of factors and their interactions. The number of factors and levels defines the experiment's complexity.\n",
    "\n",
    "Explanation of Factorial Design:\n",
    "Main Effects: The individual effect of each factor on the outcome.\n",
    "Interaction Effects: The combined effect of two or more factors on the outcome.\n",
    "Full Factorial Design: If we have k factors and each factor has l levels, the number of experiments is l^k.  we’ll conduct a 2x2 factorial design, where both factors will be tested at both levels. This results in 4 experimental conditions."
   ]
  },
  {
   "cell_type": "code",
   "execution_count": 10,
   "metadata": {},
   "outputs": [
    {
     "data": {
      "text/html": [
       "<div>\n",
       "<style scoped>\n",
       "    .dataframe tbody tr th:only-of-type {\n",
       "        vertical-align: middle;\n",
       "    }\n",
       "\n",
       "    .dataframe tbody tr th {\n",
       "        vertical-align: top;\n",
       "    }\n",
       "\n",
       "    .dataframe thead th {\n",
       "        text-align: right;\n",
       "    }\n",
       "</style>\n",
       "<table border=\"1\" class=\"dataframe\">\n",
       "  <thead>\n",
       "    <tr style=\"text-align: right;\">\n",
       "      <th></th>\n",
       "      <th>Factor_A</th>\n",
       "      <th>Factor_B</th>\n",
       "    </tr>\n",
       "  </thead>\n",
       "  <tbody>\n",
       "    <tr>\n",
       "      <th>0</th>\n",
       "      <td>Low</td>\n",
       "      <td>Low</td>\n",
       "    </tr>\n",
       "    <tr>\n",
       "      <th>1</th>\n",
       "      <td>Low</td>\n",
       "      <td>High</td>\n",
       "    </tr>\n",
       "    <tr>\n",
       "      <th>2</th>\n",
       "      <td>High</td>\n",
       "      <td>Low</td>\n",
       "    </tr>\n",
       "    <tr>\n",
       "      <th>3</th>\n",
       "      <td>High</td>\n",
       "      <td>High</td>\n",
       "    </tr>\n",
       "  </tbody>\n",
       "</table>\n",
       "</div>"
      ],
      "text/plain": [
       "  Factor_A Factor_B\n",
       "0      Low      Low\n",
       "1      Low     High\n",
       "2     High      Low\n",
       "3     High     High"
      ]
     },
     "execution_count": 10,
     "metadata": {},
     "output_type": "execute_result"
    }
   ],
   "source": [
    "import itertools\n",
    "\n",
    "# Define the factors and their levels\n",
    "factor_A = ['Low', 'High']\n",
    "factor_B = ['Low', 'High']\n",
    "\n",
    "# Create the full factorial design (2^2)\n",
    "factorial_design = list(itertools.product(factor_A, factor_B))\n",
    "\n",
    "# Convert to DataFrame for readability\n",
    "factorial_df = pd.DataFrame(factorial_design, columns=['Factor_A', 'Factor_B'])\n",
    "\n",
    "# Display the full factorial design\n",
    "factorial_df\n"
   ]
  },
  {
   "cell_type": "markdown",
   "metadata": {},
   "source": [
    "# Conclusion\n",
    "In this section, we've explored fundamental experimental design concepts and their applications in statistical research. We've simulated various experimental designs using Python code, giving us hands-on experience with randomization, treatment assignment, and statistical analysis. Here's a summary of the key concepts covered:\n",
    "\n",
    "1. Completely Randomized Design (CRD)\n",
    "The Completely Randomized Design (CRD) is the simplest experimental design, where subjects are randomly assigned to treatment and control groups without any blocking. This ensures that any differences observed between groups are attributable to the treatments rather than other factors. We simulated this design by randomly assigning 100 subjects to two groups (Treatment and Control), demonstrating the concept of randomization in experimental research.\n",
    "2. Randomized Block Design (RBD)\n",
    "Randomized Block Design (RBD) improves upon CRD by accounting for an additional source of variability, such as subject characteristics (e.g., age, gender, etc.). In RBD, subjects are first grouped (blocked) based on a characteristic, and then random assignment is applied within each block. This design helps control for the effects of blocking variables, allowing for more precise estimation of treatment effects. We illustrated this by blocking subjects into \"Young\" and \"Old\" groups and randomizing treatment assignments within each block.\n",
    "3. Latin Square Design\n",
    "Latin Square Design is a powerful tool when controlling for two sources of variability at the same time. It works by arranging treatments in a square matrix so that each treatment appears once per row and once per column. This is especially useful when there are limited resources or when we need to minimize the number of experimental runs while controlling for two factors. We demonstrated a 4x4 Latin Square design, assigning treatments to rows and columns, ensuring that each treatment appears exactly once per row and column.\n",
    "4. Factorial Design\n",
    "Factorial Design allows us to study multiple factors simultaneously, each with two or more levels. It enables the examination of not only the main effects of individual factors but also their interaction effects. This design is particularly useful when trying to understand how different factors interact with each other. \n",
    "Key Takeaways:\n",
    "Randomization is a crucial component in all experimental designs, ensuring that groups are comparable and results are unbiased.\n",
    "Blocking helps control for external factors that might affect the outcome, leading to more accurate conclusions.\n",
    "Factorial and Latin Square Designs allow us to investigate multiple variables or factors simultaneously, providing deeper insights into complex experiments without increasing the number of treatments unnecessarily.\n",
    "Statistical Analysis (e.g., ANOVA) is essential for analyzing the effects of treatments and interactions in factorial designs.\n",
    "Practical Applications:\n",
    "These experimental designs can be applied across a wide range of disciplines:\n",
    "\n",
    "Agricultural Research: Testing fertilizers, soil conditions, and crop varieties.\n",
    "Clinical Trials: Studying the effects of different medications, treatments, or dosages.\n",
    "Manufacturing: Testing new processes, machinery, or raw materials.\n",
    "Behavioral Science: Exploring factors influencing human behavior in controlled environments.\n",
    "By mastering these designs and their associated statistical techniques, researchers can draw valid, reliable conclusions from their experiments while efficiently using resources."
   ]
  }
 ],
 "metadata": {
  "kernelspec": {
   "display_name": "base",
   "language": "python",
   "name": "python3"
  },
  "language_info": {
   "codemirror_mode": {
    "name": "ipython",
    "version": 3
   },
   "file_extension": ".py",
   "mimetype": "text/x-python",
   "name": "python",
   "nbconvert_exporter": "python",
   "pygments_lexer": "ipython3",
   "version": "3.12.7"
  }
 },
 "nbformat": 4,
 "nbformat_minor": 2
}
