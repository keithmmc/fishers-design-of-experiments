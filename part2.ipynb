{
 "cells": [
  {
   "cell_type": "markdown",
   "metadata": {},
   "source": [
    "# Section 2: Principles of Experimental Design"
   ]
  },
  {
   "cell_type": "markdown",
   "metadata": {},
   "source": [
    "1. Randomization: refers to the random assignment of experimental units (subjects, plots, etc.) to treatment groups. Fisher emphasized randomization as a method for controlling both known and unknown sources of bias in experiments. By randomly assigning treatments, we ensure that the groups are comparable and that results are not influenced by factors outside the control of the researcher.\n",
    "\n",
    "Fisher’s View:\n",
    "\n",
    "Fisher argued that randomization is essential to prevent bias in the experiment. It ensures that all experimental units have an equal chance of receiving any treatment and that the treatment effects can be estimated independently of confounding variables.\n",
    "\n",
    "\n",
    "2. Replication: involves repeating an experimental treatment on multiple experimental units to reduce variability in the data. The idea is that the more times an experiment is repeated, the more reliable and consistent the estimates of the treatment effects will be. Replication allows us to estimate the inherent variability in the data, which is crucial for statistical analysis.\n",
    "\n",
    "Fisher’s View:\n",
    "\n",
    "Fisher emphasized that replication is necessary to distinguish between real treatment effects and random variation. Without replication, it is difficult to determine whether observed differences are due to the treatments or random noise.\n",
    "\n",
    "\n",
    "3. Blocking: is the process of grouping experimental units that are similar in some way (e.g., soil type, age, gender) into blocks. Blocking helps control for known sources of variability and improves the precision of treatment comparisons by ensuring that treatment differences are not confounded with these other sources of variation.\n",
    "\n",
    "Fisher’s View:\n",
    "\n",
    "Fisher’s introduction of blocking was an attempt to control for factors that could introduce noise into the experimental data. By organizing similar units into blocks and applying treatments within these blocks, Fisher’s designs minimize variability due to external factors."
   ]
  },
  {
   "cell_type": "markdown",
   "metadata": {},
   "source": [
    "Randomization Example:\n",
    "We are testing three types of fertilizer (Fertilizer A, Fertilizer B, and Fertilizer C) on crop yields. We randomly assign these fertilizers to 30 fields to eliminate any bias based on factors like field location or previous usage."
   ]
  },
  {
   "cell_type": "code",
   "execution_count": 1,
   "metadata": {},
   "outputs": [],
   "source": [
    "import numpy as np \n",
    "import pandas as pd \n",
    "\n",
    "n_fields = 30 \n",
    "fertilizers = ['feritlizer A', 'fertilizer B', 'fertilizer C']\n",
    "np.random.seed(42)\n",
    "fertilizer_assignment = np.random.choice(fertilizers, size=n_fields)"
   ]
  },
  {
   "cell_type": "code",
   "execution_count": 2,
   "metadata": {},
   "outputs": [
    {
     "data": {
      "text/html": [
       "<div>\n",
       "<style scoped>\n",
       "    .dataframe tbody tr th:only-of-type {\n",
       "        vertical-align: middle;\n",
       "    }\n",
       "\n",
       "    .dataframe tbody tr th {\n",
       "        vertical-align: top;\n",
       "    }\n",
       "\n",
       "    .dataframe thead th {\n",
       "        text-align: right;\n",
       "    }\n",
       "</style>\n",
       "<table border=\"1\" class=\"dataframe\">\n",
       "  <thead>\n",
       "    <tr style=\"text-align: right;\">\n",
       "      <th></th>\n",
       "      <th>Field_ID</th>\n",
       "      <th>Fertilizer</th>\n",
       "    </tr>\n",
       "  </thead>\n",
       "  <tbody>\n",
       "    <tr>\n",
       "      <th>0</th>\n",
       "      <td>1</td>\n",
       "      <td>fertilizer C</td>\n",
       "    </tr>\n",
       "    <tr>\n",
       "      <th>1</th>\n",
       "      <td>2</td>\n",
       "      <td>feritlizer A</td>\n",
       "    </tr>\n",
       "    <tr>\n",
       "      <th>2</th>\n",
       "      <td>3</td>\n",
       "      <td>fertilizer C</td>\n",
       "    </tr>\n",
       "    <tr>\n",
       "      <th>3</th>\n",
       "      <td>4</td>\n",
       "      <td>fertilizer C</td>\n",
       "    </tr>\n",
       "    <tr>\n",
       "      <th>4</th>\n",
       "      <td>5</td>\n",
       "      <td>feritlizer A</td>\n",
       "    </tr>\n",
       "  </tbody>\n",
       "</table>\n",
       "</div>"
      ],
      "text/plain": [
       "   Field_ID    Fertilizer\n",
       "0         1  fertilizer C\n",
       "1         2  feritlizer A\n",
       "2         3  fertilizer C\n",
       "3         4  fertilizer C\n",
       "4         5  feritlizer A"
      ]
     },
     "execution_count": 2,
     "metadata": {},
     "output_type": "execute_result"
    }
   ],
   "source": [
    "fields = pd.DataFrame({\n",
    "    'Field_ID': range(1, n_fields + 1),\n",
    "    'Fertilizer': fertilizer_assignment\n",
    "})\n",
    "\n",
    "# Display the assignment of fertilizers\n",
    "fields.head()"
   ]
  },
  {
   "cell_type": "markdown",
   "metadata": {},
   "source": [
    "Blocking Example:\n",
    "In this example, we block by soil type. Let’s assume that we have two types of soil: Soil Type 1 and Soil Type 2. We then randomize the fertilizer treatments within each soil block."
   ]
  },
  {
   "cell_type": "code",
   "execution_count": 3,
   "metadata": {},
   "outputs": [],
   "source": [
    "\n",
    "# Soil types\n",
    "soil_types = ['Soil Type 1', 'Soil Type 2']\n",
    "\n",
    "# Block the fields by soil type\n",
    "soil_block = np.random.choice(soil_types, size=n_fields)\n",
    "\n",
    "# Randomly assign fertilizers within each soil type\n",
    "block_assignment = []\n",
    "\n",
    "for soil in soil_types:\n",
    "    block_fertilizers = np.random.choice(fertilizers, size=n_fields // len(soil_types))\n",
    "    block_assignment.extend(block_fertilizers)\n",
    "\n",
    "\n"
   ]
  },
  {
   "cell_type": "code",
   "execution_count": 4,
   "metadata": {},
   "outputs": [
    {
     "data": {
      "text/html": [
       "<div>\n",
       "<style scoped>\n",
       "    .dataframe tbody tr th:only-of-type {\n",
       "        vertical-align: middle;\n",
       "    }\n",
       "\n",
       "    .dataframe tbody tr th {\n",
       "        vertical-align: top;\n",
       "    }\n",
       "\n",
       "    .dataframe thead th {\n",
       "        text-align: right;\n",
       "    }\n",
       "</style>\n",
       "<table border=\"1\" class=\"dataframe\">\n",
       "  <thead>\n",
       "    <tr style=\"text-align: right;\">\n",
       "      <th></th>\n",
       "      <th>Field_ID</th>\n",
       "      <th>Soil_Type</th>\n",
       "      <th>Fertilizer</th>\n",
       "    </tr>\n",
       "  </thead>\n",
       "  <tbody>\n",
       "    <tr>\n",
       "      <th>0</th>\n",
       "      <td>1</td>\n",
       "      <td>Soil Type 2</td>\n",
       "      <td>feritlizer A</td>\n",
       "    </tr>\n",
       "    <tr>\n",
       "      <th>1</th>\n",
       "      <td>2</td>\n",
       "      <td>Soil Type 2</td>\n",
       "      <td>fertilizer B</td>\n",
       "    </tr>\n",
       "    <tr>\n",
       "      <th>2</th>\n",
       "      <td>3</td>\n",
       "      <td>Soil Type 2</td>\n",
       "      <td>feritlizer A</td>\n",
       "    </tr>\n",
       "    <tr>\n",
       "      <th>3</th>\n",
       "      <td>4</td>\n",
       "      <td>Soil Type 2</td>\n",
       "      <td>fertilizer B</td>\n",
       "    </tr>\n",
       "    <tr>\n",
       "      <th>4</th>\n",
       "      <td>5</td>\n",
       "      <td>Soil Type 2</td>\n",
       "      <td>fertilizer C</td>\n",
       "    </tr>\n",
       "  </tbody>\n",
       "</table>\n",
       "</div>"
      ],
      "text/plain": [
       "   Field_ID    Soil_Type    Fertilizer\n",
       "0         1  Soil Type 2  feritlizer A\n",
       "1         2  Soil Type 2  fertilizer B\n",
       "2         3  Soil Type 2  feritlizer A\n",
       "3         4  Soil Type 2  fertilizer B\n",
       "4         5  Soil Type 2  fertilizer C"
      ]
     },
     "execution_count": 4,
     "metadata": {},
     "output_type": "execute_result"
    }
   ],
   "source": [
    "# Create a DataFrame for blocking\n",
    "block_data = pd.DataFrame({\n",
    "    'Field_ID': range(1, n_fields + 1),\n",
    "    'Soil_Type': soil_block,\n",
    "    'Fertilizer': block_assignment\n",
    "})\n",
    "\n",
    "# Display the blocking assignment\n",
    "block_data.head()"
   ]
  },
  {
   "cell_type": "markdown",
   "metadata": {},
   "source": [
    "We want to test the effects of three fertilizers (Fertilizer A, Fertilizer B, Fertilizer C) on crop yield. We have 30 fields, but we know that soil type might influence crop yield. Therefore, we will block by Soil Type (e.g., Soil Type 1, Soil Type 2), and we will replicate the experiment by using multiple fields per treatment.\n",
    "\n",
    "Steps:\n",
    "Block the fields by soil type.\n",
    "Randomly assign the fertilizers within each block.\n",
    "Simulate the crop yield (for simplicity, we'll use random data).\n",
    "Analyze the results using ANOVA to check for significant differences between treatments and soil types."
   ]
  },
  {
   "cell_type": "code",
   "execution_count": 5,
   "metadata": {},
   "outputs": [
    {
     "data": {
      "text/html": [
       "<div>\n",
       "<style scoped>\n",
       "    .dataframe tbody tr th:only-of-type {\n",
       "        vertical-align: middle;\n",
       "    }\n",
       "\n",
       "    .dataframe tbody tr th {\n",
       "        vertical-align: top;\n",
       "    }\n",
       "\n",
       "    .dataframe thead th {\n",
       "        text-align: right;\n",
       "    }\n",
       "</style>\n",
       "<table border=\"1\" class=\"dataframe\">\n",
       "  <thead>\n",
       "    <tr style=\"text-align: right;\">\n",
       "      <th></th>\n",
       "      <th>df</th>\n",
       "      <th>sum_sq</th>\n",
       "      <th>mean_sq</th>\n",
       "      <th>F</th>\n",
       "      <th>PR(&gt;F)</th>\n",
       "    </tr>\n",
       "  </thead>\n",
       "  <tbody>\n",
       "    <tr>\n",
       "      <th>C(Soil_Type)</th>\n",
       "      <td>1.0</td>\n",
       "      <td>29.550324</td>\n",
       "      <td>29.550324</td>\n",
       "      <td>1.810994</td>\n",
       "      <td>0.190965</td>\n",
       "    </tr>\n",
       "    <tr>\n",
       "      <th>C(Fertilizer)</th>\n",
       "      <td>2.0</td>\n",
       "      <td>69.889070</td>\n",
       "      <td>34.944535</td>\n",
       "      <td>2.141578</td>\n",
       "      <td>0.139380</td>\n",
       "    </tr>\n",
       "    <tr>\n",
       "      <th>C(Soil_Type):C(Fertilizer)</th>\n",
       "      <td>2.0</td>\n",
       "      <td>96.206515</td>\n",
       "      <td>48.103258</td>\n",
       "      <td>2.948012</td>\n",
       "      <td>0.071643</td>\n",
       "    </tr>\n",
       "    <tr>\n",
       "      <th>Residual</th>\n",
       "      <td>24.0</td>\n",
       "      <td>391.612478</td>\n",
       "      <td>16.317187</td>\n",
       "      <td>NaN</td>\n",
       "      <td>NaN</td>\n",
       "    </tr>\n",
       "  </tbody>\n",
       "</table>\n",
       "</div>"
      ],
      "text/plain": [
       "                              df      sum_sq    mean_sq         F    PR(>F)\n",
       "C(Soil_Type)                 1.0   29.550324  29.550324  1.810994  0.190965\n",
       "C(Fertilizer)                2.0   69.889070  34.944535  2.141578  0.139380\n",
       "C(Soil_Type):C(Fertilizer)   2.0   96.206515  48.103258  2.948012  0.071643\n",
       "Residual                    24.0  391.612478  16.317187       NaN       NaN"
      ]
     },
     "execution_count": 5,
     "metadata": {},
     "output_type": "execute_result"
    }
   ],
   "source": [
    "import numpy as np\n",
    "import pandas as pd\n",
    "from statsmodels.formula.api import ols\n",
    "from statsmodels.stats.anova import anova_lm\n",
    "\n",
    "# Simulate crop yields based on fertilizer treatment and soil type\n",
    "np.random.seed(42)  # For reproducibility\n",
    "\n",
    "# Simulate yield data (just for example, normally distributed yields)\n",
    "yield_data = []\n",
    "\n",
    "for soil in soil_types:\n",
    "    for fertilizer in fertilizers:\n",
    "        # Simulate yields for each combination of soil type and fertilizer\n",
    "        yields = np.random.normal(loc=50, scale=5, size=n_fields // 6)  # 5 fields per combination\n",
    "        yield_data.extend(zip([soil] * len(yields), [fertilizer] * len(yields), yields))\n",
    "\n",
    "# Create a DataFrame for the simulated crop yield data\n",
    "yield_df = pd.DataFrame(yield_data, columns=['Soil_Type', 'Fertilizer', 'Yield'])\n",
    "\n",
    "# Perform ANOVA to analyze the effect of Fertilizer, Soil Type, and their interaction\n",
    "model = ols('Yield ~ C(Soil_Type) + C(Fertilizer) + C(Soil_Type):C(Fertilizer)', data=yield_df).fit()\n",
    "\n",
    "# Perform ANOVA\n",
    "anova_results = anova_lm(model)\n",
    "\n",
    "# Display the ANOVA table\n",
    "anova_results\n",
    "\n"
   ]
  },
  {
   "cell_type": "markdown",
   "metadata": {},
   "source": [
    "# Conclusion\n",
    "In this section, we expanded on the key principles of randomization, replication, and blocking as outlined by Ronald A. Fisher in The Design of Experiments. These principles provide the foundation for designing rigorous experiments that minimize bias and allow for reliable statistical inference.\n",
    "\n",
    "Randomization ensures that treatment assignment is unbiased.\n",
    "Replication provides a more reliable estimate of treatment effects by repeating the experiment on multiple units.\n",
    "Blocking controls for known sources of variability, ensuring that treatment effects are not confounded with other factors.\n",
    "By simulating experiments in Python, we applied these principles to test the effects of fertilizers on crop yield, demonstrating how to design, analyze, and interpret experimental results. Fisher’s work remains a cornerstone of modern experimental design, and these principles continue to guide research across fields."
   ]
  }
 ],
 "metadata": {
  "kernelspec": {
   "display_name": "base",
   "language": "python",
   "name": "python3"
  },
  "language_info": {
   "codemirror_mode": {
    "name": "ipython",
    "version": 3
   },
   "file_extension": ".py",
   "mimetype": "text/x-python",
   "name": "python",
   "nbconvert_exporter": "python",
   "pygments_lexer": "ipython3",
   "version": "3.12.7"
  }
 },
 "nbformat": 4,
 "nbformat_minor": 2
}
